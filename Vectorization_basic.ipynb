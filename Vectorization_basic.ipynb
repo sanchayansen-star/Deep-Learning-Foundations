{
 "cells": [
  {
   "cell_type": "code",
   "execution_count": null,
   "id": "8d4e1872",
   "metadata": {},
   "outputs": [
    {
     "name": "stdout",
     "output_type": "stream",
     "text": [
      "The for loop version took 1108.609914779663milliseconds\n",
      "499645.6988691777\n"
     ]
    }
   ],
   "source": [
    "tic = time.time()\n",
    "for i in range(1000000):\n",
    "    c+=a[i]*b[i]\n",
    "toc = time.time()\n",
    "print(\"The for loop version took \" + str(1000*(toc-tic)) + \" milliseconds\")\n",
    "print(c)"
   ]
  },
  {
   "cell_type": "code",
   "execution_count": null,
   "id": "8f19d989",
   "metadata": {},
   "outputs": [
    {
     "name": "stdout",
     "output_type": "stream",
     "text": [
      "The vectorized version took 19.00005340576172milliseconds\n",
      "249822.8494346015\n"
     ]
    }
   ],
   "source": [
    "\n",
    "a=np.random.random(1000000)\n",
    "b=np.random.random(1000000)\n",
    "tic = time.time()\n",
    "c=np.dot(a,b)\n",
    "toc = time.time()\n",
    "print(\"The vectorized version took \" + str(1000*(toc-tic)) + \" milliseconds\")\n",
    "print(c)"
   ]
  },
  {
   "cell_type": "code",
   "execution_count": 2,
   "id": "e97b944c",
   "metadata": {},
   "outputs": [
    {
     "name": "stdout",
     "output_type": "stream",
     "text": [
      "[1 2 3 4]\n"
     ]
    }
   ],
   "source": [
    "a=np.array([1,2,3,4])\n",
    "print(a)"
   ]
  },
  {
   "cell_type": "code",
   "execution_count": 1,
   "id": "596fff0c",
   "metadata": {},
   "outputs": [],
   "source": [
    "import numpy as np\n",
    "import time"
   ]
  }
 ],
 "metadata": {
  "kernelspec": {
   "display_name": "Python 3",
   "language": "python",
   "name": "python3"
  },
  "language_info": {
   "codemirror_mode": {
    "name": "ipython",
    "version": 3
   },
   "file_extension": ".py",
   "mimetype": "text/x-python",
   "name": "python",
   "nbconvert_exporter": "python",
   "pygments_lexer": "ipython3",
   "version": "3.12.8"
  }
 },
 "nbformat": 4,
 "nbformat_minor": 5
}
